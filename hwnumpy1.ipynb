{
 "cells": [
  {
   "cell_type": "code",
   "execution_count": 70,
   "id": "a327f9ee-4ce1-48b1-b312-5a9a3287ea4a",
   "metadata": {},
   "outputs": [],
   "source": [
    "import numpy as np"
   ]
  },
  {
   "cell_type": "markdown",
   "id": "e311e2ea-8f8c-4621-8576-a1f5966fb33d",
   "metadata": {},
   "source": [
    "### 1"
   ]
  },
  {
   "cell_type": "code",
   "execution_count": 72,
   "id": "65edb89a-de64-42a2-8c6f-564e5490ffa7",
   "metadata": {},
   "outputs": [
    {
     "name": "stdout",
     "output_type": "stream",
     "text": [
      "1 - 10 [ 1  2  3  4  5  6  7  8  9 10]\n"
     ]
    }
   ],
   "source": [
    "one_ten = np.arange(1,10+1,1)\n",
    "print(\"1 - 10\" ,one_ten)"
   ]
  },
  {
   "cell_type": "code",
   "execution_count": 73,
   "id": "cc006906-598c-48a3-a358-f7eb09d584f6",
   "metadata": {},
   "outputs": [
    {
     "name": "stdout",
     "output_type": "stream",
     "text": [
      "0.5 - 5  [0.5  0.75 1.   1.25 1.5  1.75 2.   2.25 2.5  2.75 3.   3.25 3.5  3.75\n",
      " 4.   4.25 4.5  4.75 5.  ]\n"
     ]
    }
   ],
   "source": [
    "half_five = np.arange(0.5,5.25,0.25)\n",
    "print(\"0.5 - 5 \",half_five)"
   ]
  },
  {
   "cell_type": "markdown",
   "id": "76076877-43a8-4a1e-b55b-15147b14ffa2",
   "metadata": {},
   "source": [
    "#### 2"
   ]
  },
  {
   "cell_type": "code",
   "execution_count": 75,
   "id": "a5b418a3-09cb-4b99-98d0-6d83fff7e82e",
   "metadata": {},
   "outputs": [
    {
     "name": "stdout",
     "output_type": "stream",
     "text": [
      "10 in 1 line  [0. 0. 0. 0. 0. 0. 0. 0. 0. 0.]\n"
     ]
    }
   ],
   "source": [
    "ten_1line = np.zeros(10)\n",
    "print(\"10 in 1 line \", ten_1line)"
   ]
  },
  {
   "cell_type": "code",
   "execution_count": 76,
   "id": "eb84b11a-ab05-400b-8691-d1dcd0fff31a",
   "metadata": {},
   "outputs": [
    {
     "name": "stdout",
     "output_type": "stream",
     "text": [
      "[[0 0 0 0]\n",
      " [0 0 0 0]\n",
      " [0 0 0 0]]\n"
     ]
    }
   ],
   "source": [
    "twelv_3_4 = np.zeros((3,4),dtype = int)\n",
    "print(twelv_3_4)"
   ]
  },
  {
   "cell_type": "markdown",
   "id": "29cd93c9-8c61-4c0b-baa7-4c9adad078b6",
   "metadata": {},
   "source": [
    "#### 3"
   ]
  },
  {
   "cell_type": "code",
   "execution_count": 78,
   "id": "48b715a4-b502-4dc5-9a7e-2bde4829746e",
   "metadata": {},
   "outputs": [
    {
     "name": "stdout",
     "output_type": "stream",
     "text": [
      "[ 2.   4.5  7.   9.5 12. ]\n"
     ]
    }
   ],
   "source": [
    "items_5 = np.linspace(2,12,5,dtype=float)\n",
    "print(items_5)"
   ]
  },
  {
   "cell_type": "code",
   "execution_count": 79,
   "id": "36c15a63-0bd3-48e6-ab6c-6e1a551d2820",
   "metadata": {},
   "outputs": [
    {
     "name": "stdout",
     "output_type": "stream",
     "text": [
      "[3 5 7 9]\n"
     ]
    }
   ],
   "source": [
    "items_4 = np.linspace(3,9,4,dtype=int)\n",
    "print(items_4)"
   ]
  },
  {
   "cell_type": "markdown",
   "id": "6425f430-2836-4da9-b03c-9dbace99013e",
   "metadata": {},
   "source": [
    "#### 4"
   ]
  },
  {
   "cell_type": "code",
   "execution_count": 81,
   "id": "ad74a649-adf8-4cc3-af0a-a93319c21f2a",
   "metadata": {},
   "outputs": [
    {
     "name": "stdout",
     "output_type": "stream",
     "text": [
      "[[0.13031048 0.95269545 0.46825599 0.32626486]\n",
      " [0.66606832 0.89480165 0.01869786 0.02690456]]\n"
     ]
    }
   ],
   "source": [
    "random_2_4 = np.random.rand(2, 4)\n",
    "print(random_2_4)"
   ]
  },
  {
   "cell_type": "code",
   "execution_count": 82,
   "id": "cc857fbd-c325-46b7-b891-0baf2cd77336",
   "metadata": {},
   "outputs": [
    {
     "data": {
      "text/plain": [
       "array([[12, 11, 12],\n",
       "       [15, 15, 10],\n",
       "       [18, 13, 10]])"
      ]
     },
     "execution_count": 82,
     "metadata": {},
     "output_type": "execute_result"
    }
   ],
   "source": [
    "np.random.randint(10, 20, (3,3))\n"
   ]
  },
  {
   "cell_type": "code",
   "execution_count": 83,
   "id": "79f4b94f-1bee-49f6-8b36-548dd1ce47f3",
   "metadata": {},
   "outputs": [
    {
     "name": "stdout",
     "output_type": "stream",
     "text": [
      "[[0.13031048 0.95269545 0.46825599 0.32626486 0.66606832 0.89480165\n",
      "  0.01869786 0.02690456]]\n"
     ]
    }
   ],
   "source": [
    "re_shape_a = np.reshape(random_2_4,(1,8))\n",
    "print(re_shape_a)"
   ]
  },
  {
   "cell_type": "markdown",
   "id": "0e9e3031-e4e0-4dc4-ac8d-115fbb30641c",
   "metadata": {},
   "source": [
    "#### in the new shape we need to unsure that have same nmbers of items like the original"
   ]
  },
  {
   "cell_type": "markdown",
   "id": "6dea4aff-2800-48d6-a04b-a62b638ec5dc",
   "metadata": {},
   "source": [
    "#### 5) \"np.random.seed(num that be anchor)\" allways when we random numbers the numbers will be the same\n",
    "#### the advantage in using \"seed\" is that we can reuse the same result over and over and still be consistency"
   ]
  },
  {
   "cell_type": "code",
   "execution_count": null,
   "id": "80bb3f0c-0e43-4997-b88e-d77582f3b72a",
   "metadata": {},
   "outputs": [],
   "source": []
  }
 ],
 "metadata": {
  "kernelspec": {
   "display_name": "Python [conda env:base] *",
   "language": "python",
   "name": "conda-base-py"
  },
  "language_info": {
   "codemirror_mode": {
    "name": "ipython",
    "version": 3
   },
   "file_extension": ".py",
   "mimetype": "text/x-python",
   "name": "python",
   "nbconvert_exporter": "python",
   "pygments_lexer": "ipython3",
   "version": "3.12.7"
  }
 },
 "nbformat": 4,
 "nbformat_minor": 5
}
